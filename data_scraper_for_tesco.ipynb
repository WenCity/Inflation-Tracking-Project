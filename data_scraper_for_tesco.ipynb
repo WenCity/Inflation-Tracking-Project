{
  "nbformat": 4,
  "nbformat_minor": 0,
  "metadata": {
    "colab": {
      "name": "data scraper for tesco.ipynb",
      "provenance": []
    },
    "kernelspec": {
      "name": "python3",
      "display_name": "Python 3"
    },
    "language_info": {
      "name": "python"
    }
  },
  "cells": [
    {
      "cell_type": "code",
      "execution_count": null,
      "metadata": {
        "id": "BPpzNl7D5gpX"
      },
      "outputs": [],
      "source": [
        "from bs4 import BeautifulSoup\n",
        "import requests\n",
        "import time \n",
        "import datetime "
      ]
    },
    {
      "cell_type": "code",
      "source": [
        "p#Connect to WebSite\n",
        "URL = \"https://www.tesco.com/groceries/en-GB/products/255810019?selectedUrl=https://digitalcontent.api.tesco.com/v2/media/ghs/b1abfc12-9d21-4d66-a4e3-55ea706ddfbb/6b0aa485-2ba2-483f-9e2b-60b867051641.jpeg?h=540&w=540&preservedReferrer=https://www.tesco.com/\"\n",
        "headers = {\"User-Agent\": \"Mozilla/5.0 (Windows NT 10.0; Win64; x64) AppleWebKit/537.36 (KHTML, like Gecko) Chrome/104.0.0.0 Safari/537.36\"}\n",
        "\n",
        "# create page variable \n",
        "page = requests.get(URL, headers=headers)\n",
        "\n",
        "#pull the page with bs4 \n",
        "soup1 = BeautifulSoup(page.content, \"html.parser\")\n",
        "\n",
        "#prettyfied version of soup1 = soup2\n",
        "soup2 = BeautifulSoup(soup1.prettify(), \"html.parser\")\n",
        "\n",
        "#collect Title and Price \n",
        "title = soup2.find(\"h1\", {\"class\": \"product-details-tile__title\"}).get_text()\n",
        "price = soup2.find(\"span\", {\"class\": \"value\"}).get_text()\n",
        "\n",
        "#print the Data  \n",
        "print(title)\n",
        "print(price)\n",
        "\n"
      ],
      "metadata": {
        "id": "vADgyLYm8Njo",
        "colab": {
          "base_uri": "https://localhost:8080/"
        },
        "outputId": "daa8ed08-d57a-4a36-89a3-c2b3942793eb"
      },
      "execution_count": null,
      "outputs": [
        {
          "output_type": "stream",
          "name": "stdout",
          "text": [
            "\n",
            "                 6 Pack Soft White Rolls\n",
            "                \n",
            "\n",
            "                        0.80\n",
            "                       \n"
          ]
        }
      ]
    },
    {
      "cell_type": "code",
      "source": [
        "response = requests.get(url)\n",
        "\n",
        "soup = bs(response.content,'html.parser')\n",
        "rev_div = soup"
      ],
      "metadata": {
        "id": "93A7ykuk90PX"
      },
      "execution_count": null,
      "outputs": []
    }
  ]
}